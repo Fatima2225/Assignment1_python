{
 "cells": [
  {
   "cell_type": "code",
   "execution_count": 13,
   "metadata": {},
   "outputs": [
    {
     "name": "stdout",
     "output_type": "stream",
     "text": [
      "Q1)\n",
      "\t Twinkle, twinkle, little star, \n",
      "\t\t How I wonder what you are! \n",
      "\t\t\t Up above the world so high, \n",
      "\t\t\t Like a diamond in the sky. \n",
      "\t Twinkle, twinkle, little star,\n",
      "\t\t How I wonder what you are\n"
     ]
    }
   ],
   "source": [
    "print(\"Q1)\\n\\t Twinkle, twinkle, little star, \\n\\t\\t How I wonder what you are! \\n\\t\\t\\t Up above the world so high, \\n\\t\\t\\t Like a diamond in the sky. \\n\\t Twinkle, twinkle, little star,\\n\\t\\t How I wonder what you are\")"
   ]
  },
  {
   "cell_type": "code",
   "execution_count": 15,
   "metadata": {},
   "outputs": [
    {
     "name": "stdout",
     "output_type": "stream",
     "text": [
      "Q2)\n",
      "Python version\n",
      "3.7.3 (default, Apr 24 2019, 15:29:51) [MSC v.1915 64 bit (AMD64)]\n"
     ]
    }
   ],
   "source": [
    "import sys\n",
    "print(\"Q2)\\nPython version\")\n",
    "print (sys.version)"
   ]
  },
  {
   "cell_type": "code",
   "execution_count": 24,
   "metadata": {},
   "outputs": [
    {
     "name": "stdout",
     "output_type": "stream",
     "text": [
      "Q3)\n",
      "date and time = 01/01/2022 04:38:08\n"
     ]
    }
   ],
   "source": [
    "from datetime import datetime\n",
    "\n",
    "now = datetime.now()\n",
    "datetime_string = now.strftime(\"%d/%m/%Y %H:%M:%S\")\n",
    "print(\"Q3)\\ndate and time =\", datetime_string)\t"
   ]
  },
  {
   "cell_type": "code",
   "execution_count": 30,
   "metadata": {},
   "outputs": [
    {
     "name": "stdout",
     "output_type": "stream",
     "text": [
      "Q4)\n",
      "Input the radius of the circle : 2.3\n",
      "The area of the circle with radius 2.3 is: 16.619025137490002\n"
     ]
    }
   ],
   "source": [
    "from math import pi\n",
    "rad = float(input (\"Q4)\\nInput the radius of the circle : \"))\n",
    "print (\"The area of the circle with radius \" + str(rad) + \" is: \" + str(pi * rad**2))\n"
   ]
  },
  {
   "cell_type": "code",
   "execution_count": 11,
   "metadata": {},
   "outputs": [
    {
     "name": "stdout",
     "output_type": "stream",
     "text": [
      "Q5)\n",
      "enter your first name\tFatima\n",
      "enter your last name\tMughal\n",
      "amitaF lahguM\n"
     ]
    }
   ],
   "source": [
    "#input\n",
    "a = input('Q5)\\nenter your first name\\t') [::-1]\n",
    "b = input('enter your last name\\t') [::-1]\n",
    "print (a, b) "
   ]
  },
  {
   "cell_type": "code",
   "execution_count": 9,
   "metadata": {},
   "outputs": [
    {
     "name": "stdout",
     "output_type": "stream",
     "text": [
      "Q6)\n",
      "enter the value1\n",
      "1\n",
      "enter the value2\n",
      "2\n",
      "3\n"
     ]
    }
   ],
   "source": [
    "#input take strings to convert in num we use int\n",
    "a = int(input('Q6)\\nenter the value1\\n'))\n",
    "b = int(input('enter the value2\\n'))\n",
    "c = a+b\n",
    "print(c)"
   ]
  },
  {
   "cell_type": "code",
   "execution_count": null,
   "metadata": {},
   "outputs": [],
   "source": []
  }
 ],
 "metadata": {
  "kernelspec": {
   "display_name": "Python 3",
   "language": "python",
   "name": "python3"
  },
  "language_info": {
   "codemirror_mode": {
    "name": "ipython",
    "version": 3
   },
   "file_extension": ".py",
   "mimetype": "text/x-python",
   "name": "python",
   "nbconvert_exporter": "python",
   "pygments_lexer": "ipython3",
   "version": "3.7.3"
  }
 },
 "nbformat": 4,
 "nbformat_minor": 2
}
